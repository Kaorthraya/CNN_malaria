{
 "cells": [
  {
   "cell_type": "markdown",
   "metadata": {},
   "source": [
    "# Rede neural convolucional para classificação binária de imagens (treino)"
   ]
  },
  {
   "cell_type": "markdown",
   "metadata": {},
   "source": [
    "Importação das bibliotecas necessárias"
   ]
  },
  {
   "cell_type": "code",
   "execution_count": 1,
   "metadata": {},
   "outputs": [
    {
     "name": "stderr",
     "output_type": "stream",
     "text": [
      "Using TensorFlow backend.\n"
     ]
    }
   ],
   "source": [
    "import numpy as np\n",
    "import keras\n",
    "from keras.models import Sequential, Model\n",
    "from keras.layers import (Dropout, Flatten, Dense, Conv2D, Activation, MaxPooling2D)\n",
    "from keras.preprocessing.image import ImageDataGenerator\n",
    "from keras import optimizers\n",
    "from keras.callbacks import EarlyStopping, ModelCheckpoint, ReduceLROnPlateau"
   ]
  },
  {
   "cell_type": "markdown",
   "metadata": {},
   "source": [
    "Definição dos caminhos para as pastas contendo as imagens e o tamanho do batch"
   ]
  },
  {
   "cell_type": "code",
   "execution_count": 2,
   "metadata": {},
   "outputs": [],
   "source": [
    "train_path = 'dataset1/train'\n",
    "validation_path = 'dataset1/valid'\n",
    "test_path = 'dataset1/test'\n",
    "batch_size = 64"
   ]
  },
  {
   "cell_type": "markdown",
   "metadata": {},
   "source": [
    "Gerador de imagens para o treino e validação. As imagens do treino sofrem \"augmentation\" para aumentar a variabilidade de imagens a serem treinadas para o modelo."
   ]
  },
  {
   "cell_type": "code",
   "execution_count": 3,
   "metadata": {},
   "outputs": [
    {
     "name": "stdout",
     "output_type": "stream",
     "text": [
      "Found 21557 images belonging to 2 classes.\n",
      "Found 6000 images belonging to 2 classes.\n"
     ]
    }
   ],
   "source": [
    "train_datagen = ImageDataGenerator(rescale = 1./255,\n",
    "                                  shear_range = 0.2,\n",
    "                                  zoom_range = 0.2,\n",
    "                                  horizontal_flip = False)\n",
    "valid_datagen = ImageDataGenerator(rescale = 1./255)\n",
    "\n",
    "train_generator = train_datagen.flow_from_directory(train_path,\n",
    "                                                   target_size = (150,150),\n",
    "                                                   batch_size = batch_size,\n",
    "                                                   class_mode = 'binary')\n",
    "\n",
    "validation_generator = valid_datagen.flow_from_directory(validation_path,\n",
    "                                                        target_size = (150,150),\n",
    "                                                        batch_size = batch_size,\n",
    "                                                        class_mode = 'binary')"
   ]
  },
  {
   "cell_type": "code",
   "execution_count": 5,
   "metadata": {},
   "outputs": [
    {
     "data": {
      "text/plain": [
       "{'Desparasitado': 0, 'Parasitado': 1}"
      ]
     },
     "execution_count": 5,
     "metadata": {},
     "output_type": "execute_result"
    }
   ],
   "source": [
    "train_generator.class_indices"
   ]
  },
  {
   "cell_type": "markdown",
   "metadata": {},
   "source": [
    "Definição do modelo padrão para uma CNN (Convolutional neural network).\n",
    "O modelo consiste nos seguintes passos:\n",
    "\n",
    "Convolução -> Pooling espacial (subsampling) (3x) -> Flatten (array) -> Dense (conexão total dos neurons) -> Sigmoid\n"
   ]
  },
  {
   "cell_type": "code",
   "execution_count": 33,
   "metadata": {},
   "outputs": [],
   "source": [
    "model = Sequential()\n",
    "\n",
    "model.add(Conv2D(32, (3, 3), input_shape=(150, 150, 3)))\n",
    "model.add(Activation('relu')) #tanh\n",
    "model.add(MaxPooling2D(pool_size=(2, 2)))\n",
    "model.add(Dropout(0.5))"
   ]
  },
  {
   "cell_type": "code",
   "execution_count": 34,
   "metadata": {},
   "outputs": [],
   "source": [
    "model.add(Conv2D(32, (3, 3)))\n",
    "model.add(Activation('relu')) #tanh\n",
    "model.add(MaxPooling2D(pool_size=(2, 2)))\n",
    "model.add(Dropout(0.5))"
   ]
  },
  {
   "cell_type": "code",
   "execution_count": 35,
   "metadata": {},
   "outputs": [],
   "source": [
    "\n",
    "model.add(Conv2D(32, (3, 3)))\n",
    "model.add(Activation('relu')) #tanh\n",
    "model.add(MaxPooling2D(pool_size=(2, 2)))\n",
    "model.add(Dropout(0.5))"
   ]
  },
  {
   "cell_type": "code",
   "execution_count": 36,
   "metadata": {},
   "outputs": [],
   "source": [
    "model.add(Flatten())\n",
    "model.add(Dense(96))\n",
    "model.add(Activation('relu'))\n",
    "model.add(Dropout(0.5))\n",
    "model.add(Dense(1)) #dual\n",
    "model.add(Activation('sigmoid'))"
   ]
  },
  {
   "cell_type": "markdown",
   "metadata": {},
   "source": [
    "Compilação do modelo"
   ]
  },
  {
   "cell_type": "code",
   "execution_count": 37,
   "metadata": {},
   "outputs": [],
   "source": [
    "model.compile(loss='binary_crossentropy',\n",
    "              optimizer=keras.optimizers.Adam(lr=0.001),\n",
    "              metrics=['accuracy'])"
   ]
  },
  {
   "cell_type": "markdown",
   "metadata": {},
   "source": [
    "Treinamento com fit_generator\n",
    "\n",
    "Callback para parada de treinamento caso não haja decaimento significativo do val_loss por 10 epochs.\n",
    "Callback para salvamento do modelo a cada epoch. (save_best_only = True, para salvar apenas o melhor)"
   ]
  },
  {
   "cell_type": "code",
   "execution_count": 38,
   "metadata": {
    "scrolled": true
   },
   "outputs": [
    {
     "name": "stdout",
     "output_type": "stream",
     "text": [
      "Epoch 1/70\n",
      "500/500 [==============================] - 478s 956ms/step - loss: 0.5843 - acc: 0.6850 - val_loss: 0.2848 - val_acc: 0.9265\n",
      "Epoch 2/70\n",
      "500/500 [==============================] - 642s 1s/step - loss: 0.2268 - acc: 0.9259 - val_loss: 0.2261 - val_acc: 0.9315\n",
      "Epoch 3/70\n",
      "500/500 [==============================] - 592s 1s/step - loss: 0.2045 - acc: 0.9381 - val_loss: 0.2357 - val_acc: 0.9288\n",
      "Epoch 4/70\n",
      "500/500 [==============================] - 674s 1s/step - loss: 0.1983 - acc: 0.9407 - val_loss: 0.2062 - val_acc: 0.9337\n",
      "Epoch 5/70\n",
      "500/500 [==============================] - 663s 1s/step - loss: 0.1751 - acc: 0.9476 - val_loss: 0.1976 - val_acc: 0.9340\n",
      "Epoch 6/70\n",
      "500/500 [==============================] - 676s 1s/step - loss: 0.1671 - acc: 0.9505 - val_loss: 0.2102 - val_acc: 0.9337\n",
      "Epoch 7/70\n",
      "500/500 [==============================] - 581s 1s/step - loss: 0.1633 - acc: 0.9521 - val_loss: 0.1987 - val_acc: 0.9352\n",
      "Epoch 8/70\n",
      "500/500 [==============================] - 567s 1s/step - loss: 0.1553 - acc: 0.9549 - val_loss: 0.1953 - val_acc: 0.9335\n",
      "Epoch 9/70\n",
      "500/500 [==============================] - 547s 1s/step - loss: 0.1536 - acc: 0.9552 - val_loss: 0.1868 - val_acc: 0.9325\n",
      "Epoch 10/70\n",
      "500/500 [==============================] - 544s 1s/step - loss: 0.1502 - acc: 0.9568 - val_loss: 0.1913 - val_acc: 0.9328\n",
      "Epoch 11/70\n",
      "500/500 [==============================] - 550s 1s/step - loss: 0.1502 - acc: 0.9557 - val_loss: 0.1837 - val_acc: 0.9358\n",
      "Epoch 12/70\n",
      "500/500 [==============================] - 537s 1s/step - loss: 0.1460 - acc: 0.9573 - val_loss: 0.1821 - val_acc: 0.9353\n",
      "Epoch 13/70\n",
      "500/500 [==============================] - 528s 1s/step - loss: 0.1451 - acc: 0.9579 - val_loss: 0.1970 - val_acc: 0.9278\n",
      "Epoch 14/70\n",
      "500/500 [==============================] - 530s 1s/step - loss: 0.1420 - acc: 0.9575 - val_loss: 0.1862 - val_acc: 0.9335\n",
      "Epoch 15/70\n",
      "500/500 [==============================] - 535s 1s/step - loss: 0.1424 - acc: 0.9570 - val_loss: 0.1848 - val_acc: 0.9337\n",
      "Epoch 16/70\n",
      "500/500 [==============================] - 532s 1s/step - loss: 0.1352 - acc: 0.9586 - val_loss: 0.1980 - val_acc: 0.9265\n",
      "Epoch 17/70\n",
      "500/500 [==============================] - 537s 1s/step - loss: 0.1383 - acc: 0.9575 - val_loss: 0.1902 - val_acc: 0.9330\n",
      "Epoch 18/70\n",
      "500/500 [==============================] - 529s 1s/step - loss: 0.1378 - acc: 0.9567 - val_loss: 0.2042 - val_acc: 0.9218\n",
      "Epoch 19/70\n",
      "500/500 [==============================] - 523s 1s/step - loss: 0.1348 - acc: 0.9577 - val_loss: 0.2014 - val_acc: 0.9233\n",
      "Epoch 20/70\n",
      "500/500 [==============================] - 525s 1s/step - loss: 0.1344 - acc: 0.9592 - val_loss: 0.1974 - val_acc: 0.9268\n",
      "Epoch 21/70\n",
      "500/500 [==============================] - 530s 1s/step - loss: 0.1335 - acc: 0.9577 - val_loss: 0.1966 - val_acc: 0.9252\n",
      "Epoch 22/70\n",
      "500/500 [==============================] - 529s 1s/step - loss: 0.1293 - acc: 0.9592 - val_loss: 0.1813 - val_acc: 0.9340\n",
      "Epoch 23/70\n",
      "500/500 [==============================] - 526s 1s/step - loss: 0.1304 - acc: 0.9578 - val_loss: 0.1968 - val_acc: 0.9263\n",
      "Epoch 24/70\n",
      "500/500 [==============================] - 521s 1s/step - loss: 0.1289 - acc: 0.9600 - val_loss: 0.2445 - val_acc: 0.9158\n",
      "Epoch 25/70\n",
      "500/500 [==============================] - 522s 1s/step - loss: 0.1318 - acc: 0.9589 - val_loss: 0.2024 - val_acc: 0.9245\n",
      "Epoch 26/70\n",
      "500/500 [==============================] - 529s 1s/step - loss: 0.1246 - acc: 0.9598 - val_loss: 0.1981 - val_acc: 0.9263\n",
      "Epoch 27/70\n",
      "500/500 [==============================] - 527s 1s/step - loss: 0.1287 - acc: 0.9594 - val_loss: 0.1956 - val_acc: 0.9257\n",
      "Epoch 28/70\n",
      "500/500 [==============================] - 528s 1s/step - loss: 0.1241 - acc: 0.9606 - val_loss: 0.1998 - val_acc: 0.9265\n",
      "Epoch 29/70\n",
      "500/500 [==============================] - 518s 1s/step - loss: 0.1214 - acc: 0.9606 - val_loss: 0.1849 - val_acc: 0.9358\n",
      "Epoch 30/70\n",
      "500/500 [==============================] - 527s 1s/step - loss: 0.1203 - acc: 0.9616 - val_loss: 0.2349 - val_acc: 0.9215\n",
      "Epoch 31/70\n",
      "500/500 [==============================] - 517s 1s/step - loss: 0.1201 - acc: 0.9615 - val_loss: 0.2209 - val_acc: 0.9200\n",
      "Epoch 32/70\n",
      "500/500 [==============================] - 524s 1s/step - loss: 0.1209 - acc: 0.9616 - val_loss: 0.2125 - val_acc: 0.9213\n"
     ]
    },
    {
     "data": {
      "text/plain": [
       "<keras.callbacks.History at 0x7f43987fc630>"
      ]
     },
     "execution_count": 38,
     "metadata": {},
     "output_type": "execute_result"
    }
   ],
   "source": [
    "#model.fit_generator(train_generator, [0.2613402856089203, 0.9037591365833462]\n",
    "#                   steps_per_epoch = 200,\n",
    "#                   epochs = 50,\n",
    "#                   validation_data = validation_generator,\n",
    "#                   validation_steps = 1000)\n",
    "\n",
    "earlyStopping = EarlyStopping(monitor='val_loss', patience=10, verbose=0, mode='min')\n",
    "\n",
    "mcp_save = ModelCheckpoint('model.{epoch:02d}-{val_loss:.2f}.hdf5', \n",
    "                           save_best_only=False,\n",
    "                           save_weights_only=False,\n",
    "                           monitor='val_loss', \n",
    "                           mode='min')\n",
    "\n",
    "model.fit_generator(train_generator,\n",
    "                   steps_per_epoch = 500,\n",
    "                   epochs = 70,\n",
    "                   callbacks=[earlyStopping, mcp_save],\n",
    "                   validation_data = validation_generator,\n",
    "                   validation_steps = 1000)\n"
   ]
  }
 ],
 "metadata": {
  "kernelspec": {
   "display_name": "Python 3",
   "language": "python",
   "name": "python3"
  },
  "language_info": {
   "codemirror_mode": {
    "name": "ipython",
    "version": 3
   },
   "file_extension": ".py",
   "mimetype": "text/x-python",
   "name": "python",
   "nbconvert_exporter": "python",
   "pygments_lexer": "ipython3",
   "version": "3.6.8"
  }
 },
 "nbformat": 4,
 "nbformat_minor": 2
}
